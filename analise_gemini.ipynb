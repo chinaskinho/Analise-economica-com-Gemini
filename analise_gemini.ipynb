{
  "nbformat": 4,
  "nbformat_minor": 0,
  "metadata": {
    "colab": {
      "provenance": [],
      "authorship_tag": "ABX9TyMdwjhvbayidNxtBIxzTDw8",
      "include_colab_link": true
    },
    "kernelspec": {
      "name": "python3",
      "display_name": "Python 3"
    },
    "language_info": {
      "name": "python"
    }
  },
  "cells": [
    {
      "cell_type": "markdown",
      "metadata": {
        "id": "view-in-github",
        "colab_type": "text"
      },
      "source": [
        "<a href=\"https://colab.research.google.com/github/chinaskinho/Analise-economica-com-Gemini/blob/main/analise_gemini.ipynb\" target=\"_parent\"><img src=\"https://colab.research.google.com/assets/colab-badge.svg\" alt=\"Open In Colab\"/></a>"
      ]
    },
    {
      "cell_type": "code",
      "source": [
        "!pip install wbgapi\n",
        "!pip install google-generativeai"
      ],
      "metadata": {
        "id": "ySSbLSMptY2m",
        "collapsed": true
      },
      "execution_count": null,
      "outputs": []
    },
    {
      "cell_type": "code",
      "execution_count": 33,
      "metadata": {
        "id": "_NYrh6QEWdW8"
      },
      "outputs": [],
      "source": [
        "\n",
        "import pandas as pd\n",
        "import matplotlib.pyplot as plt\n",
        "import wbgapi as wb\n",
        "import seaborn as sns\n",
        "import os\n",
        "os.environ['GOOGLE_API_KEY'] = 'key' #adicione aqui sua key da api gemini\n",
        "import google.generativeai as genai\n",
        "genai.configure(api_key=os.environ['GOOGLE_API_KEY'])"
      ]
    },
    {
      "cell_type": "markdown",
      "source": [
        "Para escolher o país desejado basta usar o código do país no padrão ISO Alpha-3 (por exemplo, \"USA\" para Estados Unidos, \"BRA\" para Brasil)."
      ],
      "metadata": {
        "id": "c7I2zeZ94jl2"
      }
    },
    {
      "cell_type": "code",
      "source": [
        "pais = '' #escolha do país\n",
        "# extraindo do World Bank os indicares de PIB, desemprego e inflação\n",
        "indicators = {\n",
        "    'NY.GDP.MKTP.KD.ZG': 'PIB',\n",
        "    'SL.UEM.TOTL.ZS': 'Desemprego',\n",
        "    'FP.CPI.TOTL.ZG': 'Inflação'\n",
        "}\n",
        "\n",
        "\n",
        "country = f'{pais}'\n",
        "data = wb.data.DataFrame(indicators, country, mrv=10) #mrv (most recent values) serve para controlar o número de anos de dados que você deseja obter."
      ],
      "metadata": {
        "id": "mGaTSxP2Wh5R"
      },
      "execution_count": null,
      "outputs": []
    },
    {
      "cell_type": "code",
      "source": [
        "#tratando dados\n",
        "data.rename(index={'FP.CPI.TOTL.ZG': 'Inflação', 'SL.UEM.TOTL.ZS': 'Desemprego', 'NY.GDP.MKTP.KD.ZG': 'PIB'}, inplace=True)\n",
        "data"
      ],
      "metadata": {
        "id": "2NceXrVou8TW"
      },
      "execution_count": null,
      "outputs": []
    },
    {
      "source": [
        "# Separando informações por ano\n",
        "data_dict = {}\n",
        "def mostrar_indicadores():\n",
        "  #data_dict = {}\n",
        "  for year in data.columns:\n",
        "    print(f\"Ano: {year.replace('YR', '')}\")  # Remove 'YR'\n",
        "    data_dict[year] = {}\n",
        "    for index in data.index:\n",
        "        print(f\"  {index}: {data.loc[index, year]} %\")\n",
        "        data_dict[year][index] = data.loc[index, year]\n",
        "    print(\"\\n\")\n",
        "    return data_dict"
      ],
      "cell_type": "code",
      "metadata": {
        "id": "_GngOM0V3eWR"
      },
      "execution_count": null,
      "outputs": []
    },
    {
      "cell_type": "code",
      "source": [
        "# Chamando o Gemini para analise\n",
        "model = genai.GenerativeModel('gemini-1.5-flash')\n",
        "response = model.generate_content(f\"Como um professor de macroeconomia, explique com os dados a seguir a situação atual economica do {pais} e a perspextiva para o futuro. {data_dict}\")\n",
        "# Formatando a saída como Markdown\n",
        "markdown_output = f\"\"\"\n",
        "# Análise Econômica do {pais}\n",
        "\n",
        "## Dados Utilizados\n",
        "Aqui estão os dados econômicos dos últimos 10 anos para o {pais}:\n",
        "\n",
        "{data.to_markdown()}\n",
        "\n",
        "## Análise do Gemini\n",
        "{response.text}\n",
        "\"\"\"\n",
        "\n",
        "\n",
        "print(markdown_output)"
      ],
      "metadata": {
        "id": "50K3ovN_1BIy"
      },
      "execution_count": null,
      "outputs": []
    }
  ]
}